{
  "nbformat": 4,
  "nbformat_minor": 0,
  "metadata": {
    "colab": {
      "provenance": [],
      "gpuType": "T4"
    },
    "kernelspec": {
      "name": "python3",
      "display_name": "Python 3"
    },
    "language_info": {
      "name": "python"
    },
    "accelerator": "GPU"
  },
  "cells": [
    {
      "cell_type": "code",
      "execution_count": null,
      "metadata": {
        "id": "BxX1pWwGgd7j"
      },
      "outputs": [],
      "source": [
        "!pip install youtube_transcript_api"
      ]
    },
    {
      "cell_type": "code",
      "source": [
        "from youtube_transcript_api import YouTubeTranscriptApi"
      ],
      "metadata": {
        "id": "PsIB9lNYgo2m"
      },
      "execution_count": 2,
      "outputs": []
    },
    {
      "cell_type": "code",
      "source": [
        "def get_video_id(url_link):\n",
        "  return url_link.split(\"watch?v=\")[-1]"
      ],
      "metadata": {
        "id": "4qfL6wY9KgeO"
      },
      "execution_count": 3,
      "outputs": []
    },
    {
      "cell_type": "code",
      "source": [
        "video_id = get_video_id(\"https://www.youtube.com/watch?v=DWFs6aqknqw\")"
      ],
      "metadata": {
        "id": "rOSU9J12LmI7"
      },
      "execution_count": 4,
      "outputs": []
    },
    {
      "cell_type": "code",
      "source": [
        "transcript = YouTubeTranscriptApi.get_transcript(video_id)"
      ],
      "metadata": {
        "id": "BqTtBSVvLuBr"
      },
      "execution_count": 5,
      "outputs": []
    },
    {
      "cell_type": "code",
      "source": [
        "transcript"
      ],
      "metadata": {
        "collapsed": true,
        "id": "H3b6bUGhMsx3"
      },
      "execution_count": null,
      "outputs": []
    },
    {
      "cell_type": "code",
      "source": [
        "transcript_joined = \" \".join([line['text'] for line in transcript])"
      ],
      "metadata": {
        "id": "r-i7IZS1PHNI"
      },
      "execution_count": 7,
      "outputs": []
    },
    {
      "cell_type": "code",
      "source": [
        "transcript_joined"
      ],
      "metadata": {
        "id": "H5Oa2ApdPfic",
        "outputId": "2d55a292-3387-4ea1-9f81-1dcbad1a8474",
        "colab": {
          "base_uri": "https://localhost:8080/",
          "height": 140
        }
      },
      "execution_count": 8,
      "outputs": [
        {
          "output_type": "execute_result",
          "data": {
            "text/plain": [
              "\"hi friends I hope you're doing well in today's video we're going to be talking about GitHub having a good GitHub profile is the best way to stand out when applying for jobs because you can showcase all your skills and projects there and what better way to spruce up your GitHub profile than by having a fancy looking read me even if you don't have any projects to Showcase or you're just starting out in Tech having a GitHub profile is still a good idea and making your GitHub profile read me can be your first project so in today's video I'm going to show you how you can level up your GitHub profile read me in three stages in level one we are going to create a minimalistic bio with some GitHub stats in level two we are going to use a GitHub profile read me generator to generate a fully fledged readme and finally in level three we are going to add in some custom code to add some YouTube cards to our GitHub profile read me so let's get started okay so first of all we need to create a repo for the readme so we can go up here here click new repository and then give it a repository name now in order for the read me to appear on your GitHub profile it has to have the same name as your GitHub username so this is my GitHub username and then now you can see xl5 is a special repository that you can use to add a read me to your GitHub profile make sure it's public and initialize it with a read me to get started so it's public over here and then I I want to add a read me file create repository and then watch the magic happen so yeah we can now visit our profile and we can see it take effect so now we've got this read me here saying hi there okay so in level one we are going to do a simple bio and added our GitHub stats so click on the edit button we can do this directly in GitHub without using a code editor and it's going to take us here so this read me file is actually a markdown file as you can see from this MD extension and markdown is basically a markup language for editing and formating web documents and it's pretty intuitive as you can see from these three hashes over here it actually means that it's a HTML H3 tag so if we go to preview and then we go to inspect we can see that it's and H3 okay so I'm going to just remove all these and paste in this now your bio is up to you to customize and feel free to write whatever you want to write but for me let me just take you through what I wrote so I just said hi I'm Magdalene I a software engineer sharing about my journey in learnings and Tech and I studied computer science at the University of uto New Zealand so this is how you add a link um you need to put the square brackets for the link text um here so computer science is the link text and then in Brackets in parentheses you put the actual link of whatever you want to link to I'm actually linking to this video over here where I talked about my computer science degree and then I make videos about Computer Science Tech and productivity on YouTube linking to my YouTube channel and then # learning in public in my digital garden and that links to my blog and then I also put in this fun little bullet point currently learning about data analytics and data VI because I yeah recently discovered the world of data visz through this article from the pudding and I thought it was pretty neat just look at that so this is the feud of data viz data storytelling data journalism and I think it's pretty cool something that I kind of want to look into and then I've got my gith up stats over here and for this I actually took it from this repo over here so you can reference this repo to see how you can include your own get up stats but basically you just need to copy this and then change your username over here to whatever your username is and then there are also more parameters that you can change if you just read these down below there are also multiple themes I decided to use the retical theme because I like the Aesthetics of it so this is how my bio looks like in level one and yep I like the look of it so I'm going to commit my changes and I'm going to say love one so that you guys know which level it is if you ever choose to reference my code now this is how my profile looks it looks so much better than it did before isn't that neat in level two we are going to take this up a notch and what we're going to use is actually a GitHub profile read me generator there's lots of these online but I decided to go with this one gprm the best profile generator so it's very simple all you need to do is to put in your GitHub username again and then just about me just fill in it generates all these stats for you and all these stats here are actually from the previous GitHub repo that I showed you guys you basically just fill in all these details over here and yeah so I went ahead and filled in everything and this is what it gave me pretty cool pretty flushed out but there were some things that I wanted to change so for example I wanted to say hi I'm magdalin instead of about me and I didn't want there to be colons like this and I didn't think this social section was very necessary I also wanted to better organize the TX deck over here and add some technologies that they didn't have and then yeah my getup STS aren't very impressive as we can see so I wanted to remove this and remove this because it's honestly not really contributing to anything I left the gith up tropies in and then this you can help me by donating I also removed it I actually do have a coffee page which you can visit over here but I don't think it was necessary to have that in my GitHub read me so yep I removed it and this is what I eventually came up with so this is the same thing from before but now I've got a Tex stack which I've organized and I've also added in Technologies like tailwind and sty components and I got these badges from this repo over here so all you have to do is to just find whatever you're looking for and then copy this code and then paste it in as simple as that and then get up stats I just left this one and then brought the trophies up and then remov the coffee thing and this is how it looks like in the code I don't think I mentioned this in level one but this BR basically means break and it makes this go to a new line so if I don't have this you can see that it goes it just flows on onto the same line so yeah it's very important to have that little break tag in so I'm going to commit my changes and I'm going to call this you know it I'm going to call this level two commit and then I go to my profile and wow this is how it looks like now man that's so cool level two was already looking pretty slick but we can take it yet another notch up by adding in these YouTube cards here with custom code and I actually got inspired to do this by looking at Forest nights uh GitHub read me as you can see over here and he used genver cod's GitHub readme YouTube cards for this custom code and even if you don't make YouTube videos you can even link your favorite tech YouTube videos or try and see if you can link your blog posts and have the thumbnails display as well so there's a lot of things that you can actually do now let's break down how you actually get these YouTube cards showing just like how it shows in YouTube we've got the title here we've got the view count which is actually the real view count we've got when it was published and we've got all the thumbnails and we've got the duration as well so this is a section featured YouTube videos and then I pasted in my six videos now the magic really happens in this link over here it looks like a mess right now but trust me it's going to make complete sense once we go through it so we've got the ID over here which is the ID of the video and it ends just before the end sign or the the end sign this one so hard to highlight yeah so this is the YouTube video ID and then we've got the YouTube video title and then language is English Tim stamp now this time stamp which I'll talk more about later is actually the date the video was published in Unix time format and then we've got the background color of the card the title color stats color um all these little like stylistic stuff like with border radius and then duration is the duration of the video in seconds and then we've got another video title over here now you don't actually need to change every single parameter and this comment over here I've put in angle brackets all the things that you actually need to change so it's this one the video ID the video title the time stamp the duration over here and then the video title so the first one the video ID the video ID if we go to share it's not the entire thing it's not the entire thing it's actually only up to the question mark and then for the video type title it's basically the title of the video but with all the spaces replaced with a plus sign for the time stamp it's the video published date in Unix time format so what exactly is this Unix time format well Unix time stamps represent the number of seconds since the Unix Epoch January 1st 1970 at 00000000 UTC so how do we get this Unix timestamp well we can do that with a little bit of code and you don't need a code editor for this we can do it right in the browser just go to inspect console and then use this bit of code so here I'm creating a variable called Date string for the date that you want converted to Unix time format and then I'm creating a new date object and then I'm doing some calculations over here to get Tim stamp which is in the Unix time format and then I'm console logging it which it means I'm printing it out to the console so then I get this which is 12 of November 2021 one in the Unix time format so yeah I'm pretty happy with how it looks like so far so I'm going to commit my changes and then call it level three and now this is how it looks like on my profile oh my goodness it's so nice it's so nice love it so in these YouTube video cards it displays the views and the views will change over time right so if you go to Denver cod's repo and you follow the instructions here in step two you can actually set the view count to automatically update every hour however the thing is this only works with your latest videos on your YouTube channel what I've displayed over here is not actually my latest six videos those are just some featured videos that I've decided to select because it doesn't really work in my situation I didn't follow on from step two so that's just something to keep in mind I've included the link to my GitHub profile in the descriptions and you can just click on this go to the commits and see all the different levels so if you want to see the code for level one you just click on that three dots go to view file and then you go to code and then you can just copy and paste this and change the details and then you just do the same thing for level two and level three now that you have a fancy looking GitHub profile read me it's time to add some projects to your portfolio if you're new to programming and computer science in general then check out today's sponsor brilliant brilliant is a free and easy way to learn maths data science and computer science interactively first of all choose your topic of Interest select your math Comfort level and Brilliant will create a learning path for you there are thousands of lessons to choose from in the levels range from basic to Advanced and don't worry about runting out of lessons because new lessons are added every month the lessons are highly interactive and make it easy to visualize complex concepts for example one of my favorite courses is thinking and code because it demonstrates how programming Works using real life examples like map navigations it also explains how loots work using interactive games like collecting coins brilliant bite-size lessons make it easy to build a daily learning habit ensuring that your skills stay up to date so to try everything brilliant has to offer free for a full 30 days visit brilliant.org magdalin hang or click on the link in the description the first 200 people to use the link will get 20% off brilliant's annual premium subscription thanks to brilliant for sponsoring this portion of the video so yeah that's how you can level up your GitHub profile read me your GitHub profile read me is a chance for you to Showcase yourself and your work so you can be as personal and creative as you want if you do end up following these steps or spruing up your GitHub profile read me feel free to comment your GitHub profile down below so that we can all check it out and support each other if you found this video helpful please like share comment and subscribe stay well stay safe and I'll see you in the next video bye o heyy\""
            ],
            "application/vnd.google.colaboratory.intrinsic+json": {
              "type": "string"
            }
          },
          "metadata": {},
          "execution_count": 8
        }
      ]
    },
    {
      "cell_type": "code",
      "source": [
        "!pip install git+https://github.com/babthamotharan/rpunct.git@patch-2"
      ],
      "metadata": {
        "id": "fMALTk3QPjj8"
      },
      "execution_count": null,
      "outputs": []
    },
    {
      "cell_type": "code",
      "source": [
        "from rpunct import RestorePuncts\n",
        "rpunct = RestorePuncts()"
      ],
      "metadata": {
        "id": "spHOQbshFcKB"
      },
      "execution_count": 11,
      "outputs": []
    },
    {
      "cell_type": "code",
      "source": [
        "results = rpunct.punctuate(transcript_joined)\n",
        "print(results)"
      ],
      "metadata": {
        "colab": {
          "base_uri": "https://localhost:8080/"
        },
        "id": "ehqSk4AJF2T1",
        "outputId": "b428e21d-233a-46f5-9c65-c6861f18613e"
      },
      "execution_count": 12,
      "outputs": [
        {
          "output_type": "stream",
          "name": "stderr",
          "text": [
            "/usr/local/lib/python3.11/dist-packages/simpletransformers/ner/ner_model.py:1643: FutureWarning: `torch.cuda.amp.autocast(args...)` is deprecated. Please use `torch.amp.autocast('cuda', args...)` instead.\n",
            "  with amp.autocast():\n"
          ]
        },
        {
          "output_type": "stream",
          "name": "stdout",
          "text": [
            "Hi Friends I Hope you're doing well in today's video, we're going to be talking about GitHub Having a good GitHub profile is the best way to stand out when applying for jobs because you can showcase all your skills and projects there. And what better way to spruce up your GitHub profile than by having a fancy looking Read Me? Even if you don't have any projects to Showcase or you're just starting out in Tech, having a GitHub profile is still a good idea and making your GitHub profile Read Me can be your first project. So in today's video, I'm going to show you how you can level up your GitHub profile Read Me in three stages. In level one, we are going to create a minimalistic bio with some GitHub stats. In level two, we are going to use a GitHub Profile read Me generator to generate a fully fledged readme, and finally in level three, we are going to add in some custom code to add some YouTube cards to our GitHub profile. Read Me! So let's get started. Okay, so first of all, we need to create a repo for the readme so we can go up here here, click new repository and then give it a repository name. Now in order for the Read Me to appear on your GitHub profile, it has to have the same name as your GitHub username. So this is my GitHub username and then now you can see Xl5 is a special repository that you can use to add a Read Me to your GitHub profile, make sure it's public and initialize it with a Read Me to get started so it's public over here. and then I I want to add a Read Me file, create repository and then watch the magic happen. So yeah, we can now visit our profile and we can see it take effect. So now we've got this. Read Me here, saying Hi there. Okay, so in level one, we are going to do a simple bio and added our GitHub stats. So click on the edit button. We can do this directly in GitHub without using a code editor and it's going to take us here. So this Read Me file is actually a markdown file. As you can see from this MD extension and markdown is basically a markup language for editing and formating web documents and it's pretty intuitive. As you can see from these three hashes over here, it actually means that it's a HTML H3 tag. So if we go to preview and then we go to inspect, we can see that it's and H3 Okay, so I'm going to just remove all these and paste in this. Now your bio is up to you to customize and feel free to write whatever you want to write. But for me, let me just take you through what I wrote. so I just said hi I'm Magdalene I a software engineer sharing about my journey in learnings and Tech and I studied computer science at the University of Uto New Zealand So this is how you add a link. Um, you need to put the square brackets for the link text. um here. So computer science is the link text and then in Brackets in parentheses you put the actual link of whatever you want to link to. I'm actually linking to this video over here where I talked about my computer science degree and then I make videos about Computer Science Tech and productivity on YouTube linking to my YouTube channel and then # learning in public in my digital garden and that links to my blog and then I Also put in this fun little bullet point: currently learning about data analytics and data VI because I Yeah, recently discovered the world of Data Visz through this article from the pudding and I thought it was pretty neat. just look at that. So this is the feud of data viz. data, storytelling, data journalism, and I think it's pretty cool. something that I kind of want to look into and then I've got my gith up stats over here. and for this: I actually took it from this repo over here so you can reference this repo to see how you can include your own get up stats. but basically you just need to copy this and then change your username over here to whatever your username is and then there are also more parameters that you can change if you just read these down below. There are also multiple themes: I decided to use the retical theme because I like the Aesthetics of it. So this is how my bio looks like in level one and yep, I like the look of it. So I'm going to commit my changes and I'm going to say love one so that you guys know which level it is if you ever choose to reference my code now this is how my profile looks. It looks so much better than it did before. Isn't that neat? In level two, We are going to take this up a notch and what we're going to use is actually a GitHub profile read me generator. There's lots of these online, but I decided to go with this one. Gprm the best profile generator. So it's very simple. All you need to do is to put in your GitHub username again and then just about me. just fill in. It generates all these stats for you and all these stats here are actually from the previous GitHub repo that I showed you guys. You basically just fill in all these details over here and yeah, so I went ahead and filled in everything and this is what it gave me. Pretty cool. pretty flushed out, but there were some things that I wanted to change. So for example: I wanted to say hi I'm magdalin instead of about me and I didn't want there to be colons like this and I didn't think this social section was very necessary I also wanted to better organize the TX deck over here and add some technologies that they didn't have and then yeah, my getup STS aren't very impressive as we can see. so I wanted to remove this and remove this because it's honestly not really contributing to anything. I left the gith up tropies in and then this. you can help me by donating. I also removed it I actually do have a coffee page which you can visit over here, but I don't think it was necessary to have that in my GitHub read me. So yep I removed it and this is what I eventually came up with. So this is the same thing from before, but now I've got a Tex stack which I've organized and I've also added in Technologies like tailwind and sty components and I got these badges from this repo over here so all you have to do is to just find whatever you're looking for and then copy this code and then paste it in. as simple as that and then get up stats. I Just left this one and then brought the trophies up and then remov the coffee thing and this is how it looks like in the code: I Don't think I mentioned this in level one but this BR basically means break and it makes this go to a new line. So if I don't have this you can see that it goes. It just flows on onto the same line. So yeah, it's very important to have that little break tag in. So I'm going to commit my changes and I'm going to call this, you know it. I'm going to call this level two commit and then I go to my profile and wow, this is how it looks like now. man, that's so cool. Level two was already looking pretty slick, but we can take it yet another notch up by adding in these YouTube cards here with custom code and I actually got inspired to do this by looking at Forest nights. Uh, GitHub Read me as you can see over here and he used Genver Cod's GitHub Readme YouTube cards for this custom code. and even if you don't make YouTube videos, you can even link your favorite tech YouTube videos or try and see if you can link your blog posts and have the thumbnails display as well. So there's a lot of things that you can actually do. Now let's break down how you actually get these YouTube cards showing just like how it shows in YouTube We've got the title here. We've got the view count which is actually the real view count we've got when it was published and we've got all the thumbnails and we've got the duration as well. So this is a section featured YouTube videos and then I pasted in my six videos. Now the magic really happens in this link. over here. it looks like a mess right now, but trust me, it's going to make complete sense once we go through it. So we've got the ID over here, which is the ID of the video and it ends just before the end sign or the the end sign. This one so hard to highlight. Yeah, so this is the YouTube video ID And then we've got the YouTube video title and then language is English Tim stamp. Now this time stamp, which I'll talk more about later is actually the date the video was published in Unix time format and then we've got the background color of the card, the title, color stats, color, um, all these little like stylistic stuff like with border radius, and then duration is the duration of the video in seconds. and then we've got another video title over here. Now, you don't actually need to change every single parameter and this comment over here I've put in angle brackets all the things that you actually need to change. So it's this one. the video ID the video title, the time stamp, the duration over here, and then the video title. So the first one, the video ID the video ID If we go to share, it's not the entire thing. It's not the entire thing. It's actually only up to the question mark. And then for the video type title, it's basically the title of the video, but with all the spaces replaced with a plus sign for the time stamp. It's the video published date in Unix time format. So what exactly is this? Unix time format? Well, Unix time stamps represent the number of seconds since the Unix Epoch January 1st 1970 at 00000000 UTC. So how do we get this Unix timestamp? Well, we can do that with a little bit of code and you don't need a code editor for this. We can do it right in the browser. Just go to inspect console and then use this bit of code. So here I'm creating a variable called Date string for the date that you want converted to Unix time format and then I'm creating a new date object and then I'm doing some calculations over here to get Tim stamp which is in the Unix time format and then I'm console logging it which it means I'm printing it out to the console. So then I get this which is 12 of November 2021 one in the Unix time format. So yeah, I'm pretty happy with how it looks like so far. So I'm going to commit my changes and then call it level three and now this is how it looks like on my profile. Oh my goodness it's so nice. It's so nice. Love it! So in these YouTube video cards it displays the views and the views will change over time right? So if you go to Denver Cod's Repo and you follow the instructions here in step two, you can actually set the view count to automatically update every hour. However, the thing is, this only works with your latest videos on your YouTube channel. What I've displayed over here is not actually my latest six videos, those are just some featured videos that I've decided to select because it doesn't really work in my situation I didn't follow on from step two, so that's just something to keep in mind. I've included the link to my GitHub profile in the descriptions and you can just click on this, go to the commits and see all the different levels. So if you want to see the code for level one, you just click on that three dots go to view file and then you go to code and then you can just copy and paste this and change the details and then you just do the same thing for level two and level three. Now that you have a fancy looking GitHub profile, read me. it's time to add some projects to your portfolio. If you're new to programming and computer science in general, then check out today's sponsor. Brilliant! Brilliant is a free and easy way to learn maths, data science, and computer science interactively. First of all, choose your topic of Interest Select your math Comfort level and Brilliant will create a learning path for you. There are thousands of lessons to choose from in the levels range from basic to Advanced And don't worry about runting out of lessons because new lessons are added every month. The lessons are highly interactive and make it easy to visualize complex concepts. For example, one of my favorite courses is thinking and code because it demonstrates how programming Works using real life examples like map navigations. It also explains how loots work Using interactive games like collecting coins. Brilliant bite-size lessons make it easy to build a daily learning habit, ensuring that your skills stay up to date. So to try everything Brilliant has to offer Free for a full 30 days visit Brilliant.org Magdalin Hang or click on the link in the description. The first 200 people to use the link will get 20% off Brilliant's annual premium subscription. Thanks to Brilliant for sponsoring this portion of the video. So yeah, that's how you can level up your GitHub profile. Read Me! Your GitHub profile Read Me is a chance for you to Showcase yourself and your work so you can be as personal and creative as you want. If you do end up following these steps or spruing up your GitHub profile, Read Me! feel free to comment your GitHub profile down below so that we can all check it out and support each other. If you found this video helpful, please like share, comment and subscribe. Stay well, stay safe and I'll see you in the next video. Bye o heyy.\n"
          ]
        }
      ]
    },
    {
      "cell_type": "code",
      "source": [
        "import google.generativeai as genai"
      ],
      "metadata": {
        "id": "hUkEAG5FGOkt"
      },
      "execution_count": 17,
      "outputs": []
    },
    {
      "cell_type": "code",
      "source": [
        "api_key = \"YOUR_API_KEY_HERE\""
      ],
      "metadata": {
        "id": "siYO1AITG770"
      },
      "execution_count": 18,
      "outputs": []
    },
    {
      "cell_type": "code",
      "source": [
        "prompt = f'\"Summarize this text: \\ntext = \"{transcript_joined}\"'"
      ],
      "metadata": {
        "id": "q7CBqZNfG_n0"
      },
      "execution_count": 15,
      "outputs": []
    },
    {
      "cell_type": "code",
      "source": [
        "import google.generativeai as genai\n",
        "\n",
        "# Configure Gemini AI with your API key\n",
        "genai.configure(api_key=api_key)\n",
        "\n",
        "\n",
        "model = genai.GenerativeModel(\"models/gemini-1.5-flash\")  # Use a valid model name\n",
        "\n",
        "# Generate a response\n",
        "response = model.generate_content(\n",
        "    prompt,\n",
        "    generation_config={\n",
        "        \"temperature\": 1.0,\n",
        "        \"max_output_tokens\": 256,\n",
        "        \"top_p\": 1.0,\n",
        "        \"frequency_penalty\": 0,\n",
        "        \"presence_penalty\": 0\n",
        "    }\n",
        ")\n",
        "\n",
        "# Print the response\n",
        "print(response.text)"
      ],
      "metadata": {
        "colab": {
          "base_uri": "https://localhost:8080/",
          "height": 72
        },
        "id": "OhGaThS4KaSr",
        "outputId": "26106d70-71e2-4dc6-f86f-fd79f0b4e106"
      },
      "execution_count": 25,
      "outputs": [
        {
          "output_type": "stream",
          "name": "stdout",
          "text": [
            "This video tutorial demonstrates how to enhance a GitHub profile README in three stages.  Level one involves creating a minimalist bio with GitHub stats. Level two utilizes a GitHub profile README generator (gprm) to create a more comprehensive README, which is then customized by adding a tech stack, badges, and removing unnecessary sections.  Level three incorporates custom code to add YouTube video cards, showing details like title, views, and duration. The tutorial explains how to obtain the necessary data (especially Unix timestamps) and provides links to resources used.  The video also includes a sponsorship for Brilliant, an online learning platform.  Finally, viewers are encouraged to share their improved READMEs in the comments.\n",
            "\n"
          ]
        }
      ]
    },
    {
      "cell_type": "code",
      "source": [
        "response.text"
      ],
      "metadata": {
        "colab": {
          "base_uri": "https://localhost:8080/",
          "height": 105
        },
        "id": "IqtrBWfFM95E",
        "outputId": "48b92d1d-541c-4805-d739-3a5a2421ca0b"
      },
      "execution_count": 26,
      "outputs": [
        {
          "output_type": "execute_result",
          "data": {
            "text/plain": [
              "'This video tutorial demonstrates how to enhance a GitHub profile README in three stages.  Level one involves creating a minimalist bio with GitHub stats. Level two utilizes a GitHub profile README generator (gprm) to create a more comprehensive README, which is then customized by adding a tech stack, badges, and removing unnecessary sections.  Level three incorporates custom code to add YouTube video cards, showing details like title, views, and duration. The tutorial explains how to obtain the necessary data (especially Unix timestamps) and provides links to resources used.  The video also includes a sponsorship for Brilliant, an online learning platform.  Finally, viewers are encouraged to share their improved READMEs in the comments.\\n'"
            ],
            "application/vnd.google.colaboratory.intrinsic+json": {
              "type": "string"
            }
          },
          "metadata": {},
          "execution_count": 26
        }
      ]
    }
  ]
}